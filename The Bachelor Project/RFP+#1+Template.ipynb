{
 "cells": [
  {
   "cell_type": "markdown",
   "id": "1b940825",
   "metadata": {},
   "source": [
    "# RFP: Betting on the Bachelor\n",
    "\n",
    "## Project Overview\n",
    "You are invited to submit a proposal that answers the following question:\n",
    "\n",
    "### Who will win season 29 of the Bachelor?\n",
    "\n",
    "*All proposals must be submitted by **1/15/25 at 11:59 PM**.*"
   ]
  },
  {
   "cell_type": "markdown",
   "id": "968a85f0",
   "metadata": {},
   "source": [
    "## Required Proposal Components\n",
    "\n",
    "### 1. Data Description\n",
    "In the code cell below, read in the data you plan on using to train and test your model. Call `info()` once you have read the data into a dataframe. Consider using some or all of the following sources:\n",
    "- [Scrape Fandom Wikis](https://bachelor-nation.fandom.com/wiki/The_Bachelor) or [the official Bachelor website]('https://bachelornation.com/shows/the-bachelor/')\n",
    "- [Ask ChatGPT to genereate it](https://chatgpt.com/)\n",
    "- [Read in csv files like this](https://www.kaggle.com/datasets/brianbgonz/the-bachelor-contestants?select=contestants.csv)\n",
    "\n",
    "*Note, a level 5 dataset contains at least 1000 rows of non-null data. A level 4 contains at least 500 rows of non-null data.*"
   ]
  },
  {
   "cell_type": "code",
   "execution_count": 36,
   "id": "08c1688a",
   "metadata": {},
   "outputs": [
    {
     "name": "stdout",
     "output_type": "stream",
     "text": [
      "200\n"
     ]
    }
   ],
   "source": [
    "import requests\n",
    "import pandas as pd\n",
    "from bs4 import BeautifulSoup as soup\n",
    "seasonnum = 1\n",
    "url = \"https://en.wikipedia.org/wiki/The_Bachelor_(American_TV_series)\"\n",
    "\n",
    "data = requests.get(url)\n",
    "print(data.status_code)\n",
    "data = soup(data.text, 'html.parser')   "
   ]
  },
  {
   "cell_type": "code",
   "execution_count": 38,
   "id": "8555e148",
   "metadata": {},
   "outputs": [
    {
     "name": "stdout",
     "output_type": "stream",
     "text": [
      "[]\n",
      "['1', 'March 25 – April 25, 2002', 'Alex Michel', 'Amanda Marsh', 'Trista Rehn', 'No', 'No', 'Michel did not propose to Marsh, but instead, they entered into a relationship. They broke up several months later.[7]']\n",
      "['2', 'September 25 – November 20, 2002', 'Aaron Buerge', 'Helene Eksterowicz', 'Brooke Smith', 'Yes', 'No', 'Buerge and Eksterowicz broke up in January 2003.[8]']\n",
      "['3', 'March 24 – May 21, 2003', 'Andrew Firestone', 'Jennifer Schefft', 'Kirsten Buschbacher', 'Yes', 'No', 'Firestone and Schefft broke up in December 2003.[9]']\n",
      "['4', 'September 24 – November 20, 2003', 'Bob Guiney', 'Estella Gardinier', 'Kelly Jo Kuharski', 'No', 'No', 'Guiney did not propose to Gardinier, but she accepted a promise ring indicating that they would still date. They broke up in December 2003.[10]']\n",
      "['5', 'April 7 – May 26, 2004', 'Jesse Palmer', 'Jessica Bowlin', 'Tara Huckeby', 'No', 'No', 'Palmer did not propose to Bowlin. They continued to date, but broke up in June 2004.[11]']\n",
      "['6[b]', 'September 22 – November 24, 2004', 'Byron Velvick', 'Mary Delgado', 'Tanya Michel', 'Yes', 'No', 'Velvick and Delgado split in December 2009, after five years together.[12]']\n",
      "['7', 'March 28 – May 16, 2005', \"Charlie O'Connell\", 'Sarah Brice', 'Krisily Kennedy', 'No', 'No', \"O'Connell did not propose to Brice, but instead they entered into a relationship. They broke up in September 2007, but got back together in November 2008.[13][14] However, they broke up for good in April 2010.[15]\"]\n",
      "['8', 'January 9 – February 27, 2006', 'Travis Lane Stork', 'Sarah Stone', 'Moana Dixon', 'No', 'No', 'Stork did not propose to Stone, but instead they entered into a relationship. They broke up in March 2006.[16]']\n",
      "['9', 'October 2 – November 27, 2006', 'Lorenzo Borghese', 'Jennifer Wilson', 'Sadie Murray', 'No', 'No', 'Borghese did not propose to Wilson, but instead they entered into a relationship. They broke up in January 2007. He briefly dated runner-up Murray, but they broke up in March 2007.[17][18]']\n",
      "['10', 'April 2 – May 22, 2007', 'Andy Baldwin', 'Tessa Horst', 'Bevin Powers', 'Yes', 'No', 'Baldwin and Horst called off their engagement in June 2007, but continued to date.[19] They ended their relationship in September 2007.[20]']\n",
      "['11', 'September 24 – November 20, 2007', 'Brad Womack', '—', 'DeAnna Pappas', 'No', 'No', \"Womack chose Pappas and Croft as the two finalists, but they were both rejected in the season's finale.[21]\"]\n",
      "['Jenni Croft']\n",
      "['12', 'March 17 – May 12, 2008', 'Matt Grant', 'Shayne Lamas', 'Chelsea Wanstrath', 'Yes', 'No', 'Grant and Lamas broke up in July 2008.[22]']\n",
      "['13', 'January 5 – March 3, 2009', 'Jason Mesnick', 'Melissa Rycroft', 'Molly Malaney', 'Yes', 'No[c]', \"In the season finale, it was revealed that Mesnick had called off the engagement with Rycroft and resumed a relationship with runner-up Malaney. Mesnick later proposed to Malaney in New Zealand, and they were married on February 27, 2010, in California.[23] Their wedding aired on ABC on March 8, 2010.[24] They live in Seattle, Washington with their daughter Riley (born March 14, 2013).[25] The couple also shares custody of Jason's son, Tyler, from his previous marriage (born January 25, 2005).[26]\"]\n",
      "['14', 'January 4 – March 1, 2010', 'Jake Pavelka', 'Vienna Girardi', 'Tenley Molzahn', 'Yes', 'No', 'Pavelka and Girardi ended their engagement in June 2010.[27]']\n",
      "['15', 'January 3 – March 14, 2011', 'Brad Womack', 'Emily Maynard', \"Chantal O'Brien\", 'Yes', 'No', 'Womack and Maynard broke up while their season was airing, but reconciled in time for the finale. However, they broke up for good in June 2011.[28]']\n",
      "['16', 'January 2 – March 12, 2012', 'Ben Flajnik', 'Courtney Robertson', 'Lindzi Cox', 'Yes', 'No', 'Flajnik and Robertson broke up while their season was airing, but reconciled in time for the finale. However, they broke up for good in October 2012.[29]']\n",
      "['17', 'January 7 – March 11, 2013', 'Sean Lowe', 'Catherine Giudici', 'Lindsay Yenter', 'Yes', 'Yes', 'Lowe and Giudici married on January 26, 2014.[30] They live in Dallas, Texas with their three children - sons Samuel (born July 2, 2016) and Isaiah (born May 18, 2018), and daughter Mia (born December 23, 2019).[31][32][33]']\n",
      "['18', 'January 6 – March 10, 2014', 'Juan Pablo Galavis', 'Nikki Ferrell', 'Clare Crawley', 'No', 'No', 'Galavis did not propose to Ferrell but instead they decided to continue their relationship. They later appeared on Couples Therapy. They broke up in October 2014.[34]']\n",
      "['19', 'January 5 – March 9, 2015', 'Chris Soules', 'Whitney Bischoff', 'Becca Tilley', 'Yes', 'No', 'Soules and Bischoff announced their break-up on May 28, 2015.[35]']\n",
      "['20', 'January 4 – March 14, 2016', 'Ben Higgins', 'Lauren Bushnell', 'Joelle \"JoJo\" Fletcher', 'Yes', 'No', 'Higgins and Bushnell had their own reality show Ben and Lauren: Happily Ever After?. They announced their breakup on May 15, 2017.[36]']\n",
      "['21', 'January 2 – March 13, 2017', 'Nick Viall', 'Vanessa Grimaldi', 'Raven Gates', 'Yes', 'No', 'Viall and Grimaldi announced their breakup on August 25, 2017.[37]']\n",
      "['22', 'January 1 – March 6, 2018', 'Arie Luyendyk Jr.', 'Becca Kufrin', 'Lauren Burnham', 'Yes', 'No[d]', 'During the live season finale, it was revealed that a few weeks after filming wrapped, Luyendyk had quickly called off his engagement to Kufrin and started dating runner-up Burnham.[38] Luyendyk and Burnham got engaged during the After the Final Rose special and were married on January 12, 2019.[39][40] They live in Scottsdale, Arizona with their three children - daughter Alessi (born May 29, 2019), and twins Lux and Senna (born June 11, 2021).[41][42]']\n",
      "['23', 'January 7 – March 12, 2019', 'Colton Underwood', 'Cassie Randolph', 'Hannah Godwin', 'No', 'No', 'Randolph initially broke up with Underwood at the final three. Underwood then broke up with the remaining two women and asked Randolph to give him a second chance, and she agreed.[43] They announced their breakup on May 29, 2020.[44] In September 2020, Randolph filed a restraining order against Underwood, alleging that he stalked her and put a tracking device on her car.[45] The restraining order was later dropped after the two reached a private agreement.[46] Underwood came out as gay on April 14, 2021.[47]']\n",
      "['Tayshia Adams']\n",
      "['24', 'January 6 – March 10, 2020', 'Peter Weber', 'Hannah Ann Sluss', 'Madison Prewett', 'Yes', 'No', 'During the live After the Final Rose special, it was revealed that Weber and Sluss had ended their engagement in January 2020.[48] Although Weber and runner-up Prewett admitted to still having feelings for each other, they ultimately decided not to pursue a relationship.[49] On May 2, 2020, Weber revealed that he was dating Kelley Flanagan, who finished in fifth place on his season.[50] Weber and Flanagan announced their breakup on December 31, 2020.[51] They got back together in August 2022, but broke up again in April 2023.[52]']\n",
      "['25', 'January 4 – March 15, 2021', 'Matt James', 'Rachael Kirkconnell', 'Michelle Young', 'No', 'Yes', \"James did not propose to Kirkconnell. Instead they began a relationship, but on the After the Final Rose special, it was confirmed that James had ended the relationship after Kirkconnell's racially insensitive past came to light.[53] On April 28, 2021, James confirmed that he and Kirkconnell were back together.[54] They are still together as of January 2025.[55]\"]\n",
      "['26', 'January 3 – March 15, 2022', 'Clayton Echard', 'Susie Evans', 'Gabby Windey', 'No', 'No', 'Although the season ended with Evans rejecting Echard, it was revealed on the live After the Final Rose special that they had since gotten back together. They announced their breakup on September 23, 2022.[56]']\n",
      "['Rachel Recchia']\n",
      "['27', 'January 23 – March 27, 2023', 'Zach Shallcross', 'Kaity Biggar', 'Gabi Elnicki', 'Yes', 'Yes', 'Shallcross and Biggar moved in together in Austin, Texas in July 2023.[57] Their wedding is set for October 2025.[58]']\n",
      "['28', 'January 22 – March 25, 2024', 'Joey Graziadei', 'Kelsey Anderson', 'Daisy Kent', 'Yes', 'Yes', 'Graziadei and Anderson are still engaged as of January 2025.[55]']\n",
      "['29', 'January 27, 2025[2]', 'Grant Ellis[59]', '', '', '', '', '']\n"
     ]
    }
   ],
   "source": [
    "table = data.find('table', {\"class\": 'wikitable plainrowheaders'})\n",
    "if table:\n",
    "    rows = table.find_all('tr')\n",
    "\n",
    "    for row in rows:\n",
    "        cols = row.find_all('td')\n",
    "        print([col.text.strip() for col in cols])\n",
    "\n",
    "tableset = []\n",
    "\n",
    "\n"
   ]
  },
  {
   "cell_type": "code",
   "execution_count": 46,
   "id": "1ec4e017",
   "metadata": {},
   "outputs": [
    {
     "ename": "TypeError",
     "evalue": "list expected at most 1 argument, got 7",
     "output_type": "error",
     "traceback": [
      "\u001b[1;31m---------------------------------------------------------------------------\u001b[0m",
      "\u001b[1;31mTypeError\u001b[0m                                 Traceback (most recent call last)",
      "\u001b[1;32m~\\AppData\\Local\\Temp\\ipykernel_26084\\2880069392.py\u001b[0m in \u001b[0;36m<module>\u001b[1;34m\u001b[0m\n\u001b[1;32m----> 1\u001b[1;33m \u001b[0mdf\u001b[0m \u001b[1;33m=\u001b[0m \u001b[0mpd\u001b[0m\u001b[1;33m.\u001b[0m\u001b[0mDataFrame\u001b[0m\u001b[1;33m(\u001b[0m\u001b[1;33m[\u001b[0m\u001b[1;33m]\u001b[0m\u001b[1;33m,\u001b[0m \u001b[0mcolumns\u001b[0m\u001b[1;33m=\u001b[0m\u001b[0mlist\u001b[0m\u001b[1;33m(\u001b[0m\u001b[1;34m'Season'\u001b[0m\u001b[1;33m,\u001b[0m \u001b[1;34m'Runtime'\u001b[0m\u001b[1;33m,\u001b[0m \u001b[1;34m'Bachelor'\u001b[0m\u001b[1;33m,\u001b[0m \u001b[1;34m'Winner'\u001b[0m\u001b[1;33m,\u001b[0m \u001b[1;34m'Runner Up'\u001b[0m\u001b[1;33m,\u001b[0m \u001b[1;34m'Proposal'\u001b[0m\u001b[1;33m,\u001b[0m \u001b[1;34m'Still Together'\u001b[0m\u001b[1;33m)\u001b[0m\u001b[1;33m,\u001b[0m \u001b[0mindex\u001b[0m\u001b[1;33m=\u001b[0m\u001b[1;33m[\u001b[0m\u001b[1;33m]\u001b[0m\u001b[1;33m)\u001b[0m\u001b[1;33m\u001b[0m\u001b[1;33m\u001b[0m\u001b[0m\n\u001b[0m\u001b[0;32m      2\u001b[0m \u001b[0mdf\u001b[0m\u001b[1;33m\u001b[0m\u001b[1;33m\u001b[0m\u001b[0m\n",
      "\u001b[1;31mTypeError\u001b[0m: list expected at most 1 argument, got 7"
     ]
    }
   ],
   "source": [
    "df = pd.DataFrame([], columns=list('Season', 'Runtime', 'Bachelor', 'Winner', 'Runner Up', 'Proposal', 'Still Together'), index=[])\n",
    "df\n"
   ]
  },
  {
   "cell_type": "code",
   "execution_count": null,
   "id": "6a4c686b",
   "metadata": {},
   "outputs": [],
   "source": [
    "age = []\n",
    "occupation = []\n",
    "ethnicity = []\n",
    "season = []\n",
    "state = []\n"
   ]
  },
  {
   "cell_type": "markdown",
   "id": "880ff05f",
   "metadata": {},
   "source": [
    "### 2. Training Your Model\n",
    "In the cell seen below, write the code you need to train a linear regression model. Make sure you display the equation of the plane that best fits your chosen data at the end of your program. \n",
    "\n",
    "*Note, level 5 work trains a model using only the standard Python library and Pandas. A level 5 model is trained with at least two features, where one of the features begins as a categorical value (e.g. occupation, hometown, etc.). A level 4 uses external libraries like scikit or numpy.*"
   ]
  },
  {
   "cell_type": "code",
   "execution_count": 4,
   "id": "a87a9144",
   "metadata": {},
   "outputs": [],
   "source": [
    "# Train model here.\n",
    "# Don't forget to display the equation of the plane that best fits your data!"
   ]
  },
  {
   "cell_type": "markdown",
   "id": "cfb2b903",
   "metadata": {},
   "source": [
    "### 3. Testing Your Model\n",
    "In the cell seen below, write the code you need to test your linear regression model. \n",
    "\n",
    "*Note, a model is considered a level 5 if it achieves at least 60% prediction accuracy or achieves an RMSE of 2 weeks or less.*"
   ]
  },
  {
   "cell_type": "code",
   "execution_count": 2,
   "id": "24f8b990",
   "metadata": {},
   "outputs": [],
   "source": [
    "# Test model here."
   ]
  },
  {
   "cell_type": "markdown",
   "id": "343eb3f7",
   "metadata": {},
   "source": [
    "### 4. Final Answer\n",
    "\n",
    "In the first cell seen below, state the name of your predicted winner. \n",
    "In the second cell seen below, justify your prediction using an evaluation technique like RMSE or percent accuracy."
   ]
  },
  {
   "cell_type": "markdown",
   "id": "25533722",
   "metadata": {},
   "source": [
    "#### State the name of your predicted winner here."
   ]
  },
  {
   "cell_type": "markdown",
   "id": "e29adde2",
   "metadata": {},
   "source": [
    "#### Justify your prediction here."
   ]
  }
 ],
 "metadata": {
  "kernelspec": {
   "display_name": "base",
   "language": "python",
   "name": "python3"
  },
  "language_info": {
   "codemirror_mode": {
    "name": "ipython",
    "version": 3
   },
   "file_extension": ".py",
   "mimetype": "text/x-python",
   "name": "python",
   "nbconvert_exporter": "python",
   "pygments_lexer": "ipython3",
   "version": "3.9.13"
  }
 },
 "nbformat": 4,
 "nbformat_minor": 5
}
