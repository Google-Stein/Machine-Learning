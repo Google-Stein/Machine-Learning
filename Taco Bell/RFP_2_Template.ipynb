{
 "cells": [
  {
   "cell_type": "markdown",
   "id": "1b940825",
   "metadata": {},
   "source": [
    "# RFP: Targeted Taco Bell Ads\n",
    "\n",
    "## Project Overview\n",
    "You are invited to submit a proposal that answers the following question:\n",
    "\n",
    "### What ad will you create and why?\n",
    "\n",
    "*Please submit your proposal by **1/30/25 at 11:59 PM**.*"
   ]
  },
  {
   "cell_type": "markdown",
   "id": "968a85f0",
   "metadata": {},
   "source": [
    "## Required Proposal Components\n",
    "\n",
    "### 1. Data Description\n",
    "In the code cell below, read in the data you will need to train and test your model. Call `info()` once you have read the data into a dataframe. Consider using some or all of the following sources:\n",
    "- [Customer Demographics](https://drive.google.com/file/d/1HK42Oa3bhhRDWR1y1wVBDAQ2tbNwg1gS/view?usp=sharing)\n",
    "- [Ad Response Data](https://drive.google.com/file/d/1cuLqXPNKhP66m5BP9BAlci2G--Vopt-Z/view?usp=sharing)\n",
    "\n",
    "*Note, a level 5 dataset combines these two data sets.*"
   ]
  },
  {
   "cell_type": "code",
   "execution_count": 5,
   "id": "08c1688a",
   "metadata": {},
   "outputs": [],
   "source": [
    "import pandas as pd\n",
    "import numpy as np\n",
    "import math\n",
    "import seaborn as sns\n",
    "from sklearn.linear_model import LinearRegression \n",
    "from sklearn.model_selection import train_test_split\n",
    "from sklearn.metrics import silhouette_score\n",
    "from sklearn.cluster import KMeans"
   ]
  },
  {
   "cell_type": "code",
   "execution_count": 2,
   "id": "43153711",
   "metadata": {},
   "outputs": [],
   "source": [
    "data1 = pd.read_csv('ad_data.csv')\n",
    "data2 = pd.read_csv('customer_data.csv')"
   ]
  },
  {
   "cell_type": "code",
   "execution_count": 6,
   "id": "eb27db95",
   "metadata": {},
   "outputs": [
    {
     "name": "stdout",
     "output_type": "stream",
     "text": [
      "<class 'pandas.core.frame.DataFrame'>\n",
      "Int64Index: 10000 entries, 0 to 9999\n",
      "Data columns (total 12 columns):\n",
      " #   Column            Non-Null Count  Dtype  \n",
      "---  ------            --------------  -----  \n",
      " 0   customer_id       10000 non-null  int64  \n",
      " 1   ad_type           10000 non-null  object \n",
      " 2   ad_medium         10000 non-null  object \n",
      " 3   ad_response       10000 non-null  bool   \n",
      " 4   items_purchased   10000 non-null  object \n",
      " 5   drinks_purchased  10000 non-null  object \n",
      " 6   state             10000 non-null  object \n",
      " 7   sex               10000 non-null  object \n",
      " 8   age               10000 non-null  float64\n",
      " 9   occupation        10000 non-null  object \n",
      " 10  family_size       10000 non-null  int64  \n",
      " 11  income            10000 non-null  int64  \n",
      "dtypes: bool(1), float64(1), int64(3), object(7)\n",
      "memory usage: 947.3+ KB\n"
     ]
    }
   ],
   "source": [
    "data = pd.merge(data1, data2, on='customer_id', how='inner')\n",
    "data.info()"
   ]
  },
  {
   "cell_type": "markdown",
   "id": "880ff05f",
   "metadata": {},
   "source": [
    "### 2. Training Your Model\n",
    "In the cell seen below, write the code you need to train a K-means clustering model. Make sure you describe the center of each cluster found.\n",
    "\n",
    "*Note, level 5 work uses at least 3 features to train a K-means model using only the standard Python library and Pandas. A level 4 uses external libraries like scikit or numpy.*"
   ]
  },
  {
   "cell_type": "code",
   "execution_count": 32,
   "id": "a87a9144",
   "metadata": {},
   "outputs": [
    {
     "data": {
      "text/html": [
       "<div>\n",
       "<style scoped>\n",
       "    .dataframe tbody tr th:only-of-type {\n",
       "        vertical-align: middle;\n",
       "    }\n",
       "\n",
       "    .dataframe tbody tr th {\n",
       "        vertical-align: top;\n",
       "    }\n",
       "\n",
       "    .dataframe thead th {\n",
       "        text-align: right;\n",
       "    }\n",
       "</style>\n",
       "<table border=\"1\" class=\"dataframe\">\n",
       "  <thead>\n",
       "    <tr style=\"text-align: right;\">\n",
       "      <th></th>\n",
       "      <th>age</th>\n",
       "      <th>income</th>\n",
       "      <th>family_size</th>\n",
       "    </tr>\n",
       "  </thead>\n",
       "  <tbody>\n",
       "    <tr>\n",
       "      <th>9069</th>\n",
       "      <td>39.0</td>\n",
       "      <td>34046</td>\n",
       "      <td>1</td>\n",
       "    </tr>\n",
       "    <tr>\n",
       "      <th>2603</th>\n",
       "      <td>23.0</td>\n",
       "      <td>14379</td>\n",
       "      <td>0</td>\n",
       "    </tr>\n",
       "    <tr>\n",
       "      <th>7738</th>\n",
       "      <td>20.0</td>\n",
       "      <td>41447</td>\n",
       "      <td>0</td>\n",
       "    </tr>\n",
       "    <tr>\n",
       "      <th>1579</th>\n",
       "      <td>22.0</td>\n",
       "      <td>13702</td>\n",
       "      <td>2</td>\n",
       "    </tr>\n",
       "    <tr>\n",
       "      <th>5058</th>\n",
       "      <td>50.0</td>\n",
       "      <td>99332</td>\n",
       "      <td>1</td>\n",
       "    </tr>\n",
       "  </tbody>\n",
       "</table>\n",
       "</div>"
      ],
      "text/plain": [
       "       age  income  family_size\n",
       "9069  39.0   34046            1\n",
       "2603  23.0   14379            0\n",
       "7738  20.0   41447            0\n",
       "1579  22.0   13702            2\n",
       "5058  50.0   99332            1"
      ]
     },
     "execution_count": 32,
     "metadata": {},
     "output_type": "execute_result"
    }
   ],
   "source": [
    "train_data, _ = train_test_split(data, test_size=0.3, random_state=42)\n",
    "train_data = train_data[[\"age\", \"income\", \"family_size\"]]\n",
    "train_data.head()"
   ]
  },
  {
   "cell_type": "code",
   "execution_count": 35,
   "id": "6c0937b4",
   "metadata": {},
   "outputs": [
    {
     "data": {
      "text/plain": [
       "KMeans(n_clusters=3)"
      ]
     },
     "execution_count": 35,
     "metadata": {},
     "output_type": "execute_result"
    }
   ],
   "source": [
    "model = KMeans(n_clusters=3)\n",
    "model.fit(train_data)"
   ]
  },
  {
   "cell_type": "code",
   "execution_count": 36,
   "id": "63614af1",
   "metadata": {},
   "outputs": [
    {
     "data": {
      "text/plain": [
       "array([[3.67299589e+01, 3.62999142e+04, 1.84712230e+00],\n",
       "       [3.87514770e+01, 8.82715140e+04, 1.88420638e+00],\n",
       "       [5.05518453e+01, 1.79292313e+05, 2.23022847e+00]])"
      ]
     },
     "execution_count": 36,
     "metadata": {},
     "output_type": "execute_result"
    }
   ],
   "source": [
    "model.cluster_centers_"
   ]
  },
  {
   "cell_type": "code",
   "execution_count": 38,
   "id": "c1f2ac4c",
   "metadata": {},
   "outputs": [
    {
     "data": {
      "text/plain": [
       "<AxesSubplot:xlabel='Clusters', ylabel='Interia'>"
      ]
     },
     "execution_count": 38,
     "metadata": {},
     "output_type": "execute_result"
    },
    {
     "data": {
      "image/png": "[encoded data removed]",
      "text/plain": [
       "<Figure size 640x480 with 1 Axes>"
      ]
     },
     "metadata": {},
     "output_type": "display_data"
    }
   ],
   "source": [
    "plot = {\n",
    "    'Clusters': range(1, 11),\n",
    "    'Interia': []\n",
    "\n",
    "}\n",
    "\n",
    "for k in range(1, 11):\n",
    "    kmeans = KMeans(n_clusters=k)\n",
    "    kmeans.fit(train_data)\n",
    "    plot['Interia'].append(kmeans.inertia_)\n",
    "\n",
    "\n",
    "sns.lineplot(x='Clusters', y='Interia', data=plot)\n"
   ]
  },
  {
   "cell_type": "markdown",
   "id": "0fe52f67",
   "metadata": {},
   "source": [
    "#### Don't forget to describe the centers of the clusters you found."
   ]
  },
  {
   "cell_type": "markdown",
   "id": "cfb2b903",
   "metadata": {},
   "source": [
    "### 3. Testing Your Model\n",
    "In the cell seen below, write the code you need to test your K-means model. Then, interpret your findings.\n",
    "\n",
    "*Note, level 5 testing uses both an elbow plot and a silhouette score to evaluate your model. Level 4 uses one or the other.*"
   ]
  },
  {
   "cell_type": "markdown",
   "id": "32a8c369",
   "metadata": {},
   "source": [
    "#### Interpret your elbow plot and/or silhouette score here."
   ]
  },
  {
   "cell_type": "markdown",
   "id": "343eb3f7",
   "metadata": {},
   "source": [
    "### 4. Final Answer\n",
    "\n",
    "In the first cell seen below, describe the cluster you have chosen to target with your ad, making sure to describe the type of ad they were the most likely to respond to. Then, use software of your choosing to create the ad you will need to target this cluster. You do not need to create an ad for both the nacho fries and the Baja Blast. You can focus on one if that's what your cluster cares about most.\n",
    "\n",
    "In the second cell seen below, include a link to your ad.\n",
    "\n",
    "*Note, a level 5 ad uses the medium (static image or video) the cluster most likely responded to.* "
   ]
  },
  {
   "cell_type": "markdown",
   "id": "25533722",
   "metadata": {},
   "source": [
    "#### Describe the cluster you are targeting here."
   ]
  },
  {
   "cell_type": "markdown",
   "id": "e29adde2",
   "metadata": {},
   "source": [
    "#### Link your ad here."
   ]
  }
 ],
 "metadata": {
  "kernelspec": {
   "display_name": "base",
   "language": "python",
   "name": "python3"
  },
  "language_info": {
   "codemirror_mode": {
    "name": "ipython",
    "version": 3
   },
   "file_extension": ".py",
   "mimetype": "text/x-python",
   "name": "python",
   "nbconvert_exporter": "python",
   "pygments_lexer": "ipython3",
   "version": "3.9.13"
  }
 },
 "nbformat": 4,
 "nbformat_minor": 5
}
