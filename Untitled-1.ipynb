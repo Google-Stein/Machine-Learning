{
 "cells": [
  {
   "cell_type": "code",
   "execution_count": 76,
   "metadata": {},
   "outputs": [
    {
     "name": "stdout",
     "output_type": "stream",
     "text": [
      "Hello there, \"Elizabeth Fix\"\n",
      "It's nice to meet you!\n"
     ]
    }
   ],
   "source": [
    "name = input(\"What's your name? \")\n",
    "name = name.strip().title()\n",
    "\n",
    "print(f\"Hello there, \\\"{name}\\\"\")\n",
    "print(f\"It's nice to meet you!\")"
   ]
  },
  {
   "cell_type": "code",
   "execution_count": 77,
   "metadata": {},
   "outputs": [],
   "source": [
    "import random\n",
    "import numpy\n",
    "\n",
    "num = random.randint(1,10)\n"
   ]
  },
  {
   "cell_type": "code",
   "execution_count": 81,
   "metadata": {},
   "outputs": [
    {
     "name": "stdout",
     "output_type": "stream",
     "text": [
      "1\n"
     ]
    }
   ],
   "source": [
    "guess = int(input(\"What is your Guess?\"))\n",
    "print(guess)"
   ]
  },
  {
   "cell_type": "code",
   "execution_count": 79,
   "metadata": {},
   "outputs": [
    {
     "name": "stdout",
     "output_type": "stream",
     "text": [
      "Your guess of 3 was not 1, Sorry!\n"
     ]
    }
   ],
   "source": [
    "if guess == num:\n",
    "    print(f\"The Random Number Selected was {num}, great job!\")\n",
    "else:\n",
    "    print(f\"Your guess of {guess} was not {num}, Sorry!\")"
   ]
  },
  {
   "cell_type": "code",
   "execution_count": 94,
   "metadata": {},
   "outputs": [
    {
     "name": "stdout",
     "output_type": "stream",
     "text": [
      "Your guess of 3 is too high!\n"
     ]
    }
   ],
   "source": [
    "guess = False\n",
    "\n",
    "while guess == False:\n",
    "    guess = int(input(\"What is your Guess?\"))\n",
    "    if guess > num:\n",
    "        print(f\"Your guess of {guess} is too high!\")\n",
    "        guess = int(input(\"Would you like to try again?\"))\n",
    "    else: \n",
    "        if guess < num:\n",
    "            print(f\"Your guess of {guess} is too low!\")\n",
    "            guess = int(input(\"Would you like to try again?\"))\n",
    "        else:\n",
    "            print(f\"The random number selected was {num}, great job!\")\n",
    "            guess = True"
   ]
  },
  {
   "cell_type": "code",
   "execution_count": null,
   "metadata": {},
   "outputs": [],
   "source": []
  }
 ],
 "metadata": {
  "kernelspec": {
   "display_name": "Python 3",
   "language": "python",
   "name": "python3"
  },
  "language_info": {
   "codemirror_mode": {
    "name": "ipython",
    "version": 3
   },
   "file_extension": ".py",
   "mimetype": "text/x-python",
   "name": "python",
   "nbconvert_exporter": "python",
   "pygments_lexer": "ipython3",
   "version": "3.13.0"
  }
 },
 "nbformat": 4,
 "nbformat_minor": 2
}
